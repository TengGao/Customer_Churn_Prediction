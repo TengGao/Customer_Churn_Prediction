{
 "cells": [
  {
   "cell_type": "markdown",
   "metadata": {},
   "source": [
    "# LightGBM\n",
    "\n",
    "In this notebook, I will explore the performance of LightGBM. It is rapidly gaining popularity, especially amongst the Kagglers. Its prediction accuracy is on par with XGBoost, but runs faster (in my experience, almost twice faster!). Thus, it allows one to experiment with more setups.\n",
    "\n",
    "I will compare LightGBM with a Random Forest Classifier model from the previous section. As a bonus, I will also compare the result of a RandomizedSearchCV result with a Python implementation of a genetic algorithm, EvolutionaryAlgorithmSearchCV."
   ]
  },
  {
   "cell_type": "code",
   "execution_count": 1,
   "metadata": {},
   "outputs": [
    {
     "name": "stderr",
     "output_type": "stream",
     "text": [
      "/home/mike/anaconda/lib/python3.6/site-packages/sklearn/cross_validation.py:41: DeprecationWarning: This module was deprecated in version 0.18 in favor of the model_selection module into which all the refactored classes and functions are moved. Also note that the interface of the new CV iterators are different from that of this module. This module will be removed in 0.20.\n",
      "  \"This module will be removed in 0.20.\", DeprecationWarning)\n"
     ]
    }
   ],
   "source": [
    "# For general dataframe\n",
    "import pandas as pd\n",
    "import numpy as np\n",
    "import matplotlib.pyplot as plt\n",
    "pd.set_option('display.max_columns',100)\n",
    "%matplotlib inline\n",
    "\n",
    "#For model evaluation metrics\n",
    "from sklearn.preprocessing import LabelEncoder, OneHotEncoder, MinMaxScaler, StandardScaler\n",
    "from sklearn.metrics import classification_report,  confusion_matrix, roc_auc_score, roc_curve\n",
    "from sklearn.pipeline import Pipeline, make_pipeline\n",
    "from sklearn.model_selection import train_test_split\n",
    "from sklearn.svm import SVC\n",
    "from sklearn.naive_bayes import GaussianNB\n",
    "from sklearn.model_selection import KFold\n",
    "\n",
    "#For models\n",
    "from xgboost import XGBClassifier\n",
    "from sklearn.linear_model import LogisticRegression, RandomizedLogisticRegression\n",
    "from sklearn.ensemble import RandomForestClassifier\n",
    "\n",
    "from imblearn.combine import SMOTETomek\n",
    "\n",
    "import warnings\n",
    "warnings.filterwarnings('ignore')"
   ]
  },
  {
   "cell_type": "code",
   "execution_count": 2,
   "metadata": {
    "collapsed": true
   },
   "outputs": [],
   "source": [
    "def display_result(X_train, X_test, y_train, y_test, clf, display_roc=True):\n",
    "    \n",
    "    clf.fit(X_train, y_train)\n",
    "    y_pred = clf.predict(X_test)\n",
    "    \n",
    "    print (classification_report(y_test, y_pred))\n",
    "\n",
    "\n",
    "    matrix = pd.DataFrame(\n",
    "           confusion_matrix(y_test,y_pred),\n",
    "            columns=['Predicted False', 'Predict True'],\n",
    "            index = ['Actual False', 'Actual True'])\n",
    "    display(matrix)\n",
    "    \n",
    "    fpr, tpr, thresholds = roc_curve(y_test, clf.predict_proba(X_test)[:,1])\n",
    "    if display_roc:\n",
    "        \n",
    "        plt.plot(fpr, tpr,label='%s (area = %0.2f)' % ('LogisticRegression', roc_auc_score(y_test, y_pred)))\n",
    "        # Plot Base Rate ROC\n",
    "        plt.plot([0,1], [0,1],label='Base Rate' 'k--')\n",
    "\n",
    "        plt.xlim([0.0, 1.0])\n",
    "        plt.ylim([0.0, 1.05])\n",
    "        plt.xlabel('False Positive Rate')\n",
    "        plt.ylabel('True Positive Rate')\n",
    "        plt.title('ROC Graph')\n",
    "        plt.legend(loc=\"lower right\")\n",
    "        plt.show()\n",
    "        return\n",
    "    return fpr, tpr, thresholds, y_pred\n",
    "\n",
    "def read_data(onehot=False, label=False, return_cat_columns=False):\n",
    "    df = pd.read_csv('churn.csv')\n",
    "    df.columns = df.columns.str.lower().str.replace(' ','_')\n",
    "    df.rename(columns={'churn?':'churn', \"int'l_plan\":'intl_plan'}, inplace=True)\n",
    "    df = (df.drop(['phone','day_charge','eve_charge','night_charge','intl_charge'], axis=1)\n",
    "            .replace(['True.','False.'],[1,0]))\n",
    "    df.area_code = df.area_code.astype('object')\n",
    "    if label:\n",
    "        df = df.replace(['yes','no'],[1,0])\n",
    "    if onehot:\n",
    "        df = pd.get_dummies(df, columns=['state','area_code'], drop_first=True)\n",
    "    if return_cat_columns:\n",
    "        return df, df.dtypes[df.dtypes==object].index.values.tolist()\n",
    "    else:\n",
    "        return df"
   ]
  },
  {
   "cell_type": "code",
   "execution_count": 3,
   "metadata": {
    "collapsed": true
   },
   "outputs": [],
   "source": [
    "df = read_data(label=True)\n",
    "df.drop(['state','area_code'],axis=1, inplace=True)\n",
    "X_train, X_test, y_train, y_test = train_test_split(df.drop('churn', axis=1), df.churn.values, test_size=0.2,\n",
    "                                                   random_state=0)"
   ]
  },
  {
   "cell_type": "code",
   "execution_count": 4,
   "metadata": {},
   "outputs": [
    {
     "name": "stderr",
     "output_type": "stream",
     "text": [
      "/home/mike/anaconda/lib/python3.6/site-packages/imblearn/utils/deprecation.py:50: DeprecationWarning: 'k' is deprecated from 0.2 and will be removed in 0.4. Use 'k_neighbors' instead.\n",
      "  category=DeprecationWarning)\n",
      "/home/mike/anaconda/lib/python3.6/site-packages/imblearn/utils/deprecation.py:50: DeprecationWarning: 'm' is deprecated from 0.2 and will be removed in 0.4. Use 'm_neighbors' instead.\n",
      "  category=DeprecationWarning)\n"
     ]
    }
   ],
   "source": [
    "scaler = StandardScaler()\n",
    "x_train = X_train.copy()\n",
    "x_test = X_test.copy()\n",
    "\n",
    "scaler.fit(x_train)\n",
    "x_train = scaler.transform(x_train)\n",
    "x_test = scaler.transform(x_test)\n",
    "\n",
    "#cv = KFold(n_splits=5, shuffle=True, random_state=0)\n",
    "\n",
    "os_us = SMOTETomek(ratio=0.5, k=5)\n",
    "X_train_res, y_train_res = os_us.fit_sample(x_train, y_train)"
   ]
  },
  {
   "cell_type": "markdown",
   "metadata": {},
   "source": [
    "## Benchmark Model"
   ]
  },
  {
   "cell_type": "code",
   "execution_count": 5,
   "metadata": {},
   "outputs": [],
   "source": [
    "from sklearn.grid_search import RandomizedSearchCV, GridSearchCV\n",
    "from sklearn.cross_validation import KFold"
   ]
  },
  {
   "cell_type": "code",
   "execution_count": 6,
   "metadata": {},
   "outputs": [
    {
     "name": "stdout",
     "output_type": "stream",
     "text": [
      "             precision    recall  f1-score   support\n",
      "\n",
      "          0       0.98      0.96      0.97       579\n",
      "          1       0.76      0.84      0.80        88\n",
      "\n",
      "avg / total       0.95      0.94      0.94       667\n",
      "\n"
     ]
    },
    {
     "data": {
      "text/html": [
       "<div>\n",
       "<style>\n",
       "    .dataframe thead tr:only-child th {\n",
       "        text-align: right;\n",
       "    }\n",
       "\n",
       "    .dataframe thead th {\n",
       "        text-align: left;\n",
       "    }\n",
       "\n",
       "    .dataframe tbody tr th {\n",
       "        vertical-align: top;\n",
       "    }\n",
       "</style>\n",
       "<table border=\"1\" class=\"dataframe\">\n",
       "  <thead>\n",
       "    <tr style=\"text-align: right;\">\n",
       "      <th></th>\n",
       "      <th>Predicted False</th>\n",
       "      <th>Predict True</th>\n",
       "    </tr>\n",
       "  </thead>\n",
       "  <tbody>\n",
       "    <tr>\n",
       "      <th>Actual False</th>\n",
       "      <td>555</td>\n",
       "      <td>24</td>\n",
       "    </tr>\n",
       "    <tr>\n",
       "      <th>Actual True</th>\n",
       "      <td>14</td>\n",
       "      <td>74</td>\n",
       "    </tr>\n",
       "  </tbody>\n",
       "</table>\n",
       "</div>"
      ],
      "text/plain": [
       "              Predicted False  Predict True\n",
       "Actual False              555            24\n",
       "Actual True                14            74"
      ]
     },
     "metadata": {},
     "output_type": "display_data"
    },
    {
     "data": {
      "image/png": "[encoded data removed]",
      "text/plain": [
       "<matplotlib.figure.Figure at 0x7f6477cdcdd8>"
      ]
     },
     "metadata": {},
     "output_type": "display_data"
    }
   ],
   "source": [
    "clf_base =  RandomForestClassifier()\n",
    "\n",
    "grid = {\n",
    "    'n_estimators': [10,20,50,100,200],\n",
    "    'max_features': ['auto', 'sqrt', 'log2'],\n",
    "    \"max_features\": [3, 5],\n",
    "    \"max_depth\" : [5,6,7,8,9,10],\n",
    "    \"min_samples_split\" : [2, 4] ,\n",
    "}\n",
    "\n",
    "cv = KFold(X_train_res.shape[0], n_folds=5, shuffle=True, random_state=0)\n",
    "clf_rf_smote = GridSearchCV(clf_base, grid, cv=cv, n_jobs=-1, scoring='f1_weighted')\n",
    "\n",
    "display_result(X_train_res, x_test, y_train_res, y_test, clf_rf_smote)"
   ]
  },
  {
   "cell_type": "markdown",
   "metadata": {},
   "source": [
    "## LightGBM\n",
    "\n",
    "**1. LightGBM without tuning**"
   ]
  },
  {
   "cell_type": "code",
   "execution_count": 7,
   "metadata": {},
   "outputs": [
    {
     "name": "stdout",
     "output_type": "stream",
     "text": [
      "             precision    recall  f1-score   support\n",
      "\n",
      "          0       0.97      0.95      0.96       579\n",
      "          1       0.70      0.83      0.76        88\n",
      "\n",
      "avg / total       0.94      0.93      0.93       667\n",
      "\n"
     ]
    },
    {
     "data": {
      "text/html": [
       "<div>\n",
       "<style>\n",
       "    .dataframe thead tr:only-child th {\n",
       "        text-align: right;\n",
       "    }\n",
       "\n",
       "    .dataframe thead th {\n",
       "        text-align: left;\n",
       "    }\n",
       "\n",
       "    .dataframe tbody tr th {\n",
       "        vertical-align: top;\n",
       "    }\n",
       "</style>\n",
       "<table border=\"1\" class=\"dataframe\">\n",
       "  <thead>\n",
       "    <tr style=\"text-align: right;\">\n",
       "      <th></th>\n",
       "      <th>Predicted False</th>\n",
       "      <th>Predict True</th>\n",
       "    </tr>\n",
       "  </thead>\n",
       "  <tbody>\n",
       "    <tr>\n",
       "      <th>Actual False</th>\n",
       "      <td>548</td>\n",
       "      <td>31</td>\n",
       "    </tr>\n",
       "    <tr>\n",
       "      <th>Actual True</th>\n",
       "      <td>15</td>\n",
       "      <td>73</td>\n",
       "    </tr>\n",
       "  </tbody>\n",
       "</table>\n",
       "</div>"
      ],
      "text/plain": [
       "              Predicted False  Predict True\n",
       "Actual False              548            31\n",
       "Actual True                15            73"
      ]
     },
     "metadata": {},
     "output_type": "display_data"
    },
    {
     "data": {
      "image/png": "[encoded data removed]",
      "text/plain": [
       "<matplotlib.figure.Figure at 0x7f6477dc06a0>"
      ]
     },
     "metadata": {},
     "output_type": "display_data"
    }
   ],
   "source": [
    "from lightgbm import LGBMClassifier\n",
    "\n",
    "gbm = LGBMClassifier(objective='binary', \n",
    "                          n_jobs=-1, \n",
    "                          random_state=0,\n",
    "                          subsample=1.0)\n",
    "display_result(X_train_res, x_test, y_train_res, y_test, gbm)"
   ]
  },
  {
   "cell_type": "markdown",
   "metadata": {},
   "source": [
    "** 2. Tuning LightGBm using RandomizedSearchCV**"
   ]
  },
  {
   "cell_type": "code",
   "execution_count": 56,
   "metadata": {},
   "outputs": [],
   "source": [
    "param_grid = {\n",
    "    'learning_rate': [0.01, 0.05,0.1, 0.005,0.001],\n",
    "    'n_estimators': [500,600,700,800],\n",
    "    'num_leaves': [35,40,45,50],\n",
    "    'max_depth': [8,10,12,14],\n",
    "    'max_bin':[255,280,300,320,350,400],\n",
    "    'colsample_bytree' : [0.5,0.7,0.9],\n",
    "    'subsample' : [0.7,0.8,0.9,1],\n",
    "    'min_child_samples':[12,15,20,25,30,40],\n",
    "    'min_child_weight':[1,2,3,4,5,7]\n",
    "}"
   ]
  },
  {
   "cell_type": "code",
   "execution_count": 57,
   "metadata": {
    "scrolled": false
   },
   "outputs": [
    {
     "name": "stdout",
     "output_type": "stream",
     "text": [
      "Fitting 5 folds for each of 50 candidates, totalling 250 fits\n"
     ]
    },
    {
     "name": "stderr",
     "output_type": "stream",
     "text": [
      "[Parallel(n_jobs=-1)]: Done  42 tasks      | elapsed:  1.3min\n",
      "[Parallel(n_jobs=-1)]: Done 192 tasks      | elapsed:  7.1min\n",
      "[Parallel(n_jobs=-1)]: Done 250 out of 250 | elapsed:  9.7min finished\n"
     ]
    },
    {
     "name": "stdout",
     "output_type": "stream",
     "text": [
      "             precision    recall  f1-score   support\n",
      "\n",
      "          0       0.98      0.98      0.98       579\n",
      "          1       0.86      0.84      0.85        88\n",
      "\n",
      "avg / total       0.96      0.96      0.96       667\n",
      "\n"
     ]
    },
    {
     "data": {
      "text/html": [
       "<div>\n",
       "<style>\n",
       "    .dataframe thead tr:only-child th {\n",
       "        text-align: right;\n",
       "    }\n",
       "\n",
       "    .dataframe thead th {\n",
       "        text-align: left;\n",
       "    }\n",
       "\n",
       "    .dataframe tbody tr th {\n",
       "        vertical-align: top;\n",
       "    }\n",
       "</style>\n",
       "<table border=\"1\" class=\"dataframe\">\n",
       "  <thead>\n",
       "    <tr style=\"text-align: right;\">\n",
       "      <th></th>\n",
       "      <th>Predicted False</th>\n",
       "      <th>Predict True</th>\n",
       "    </tr>\n",
       "  </thead>\n",
       "  <tbody>\n",
       "    <tr>\n",
       "      <th>Actual False</th>\n",
       "      <td>567</td>\n",
       "      <td>12</td>\n",
       "    </tr>\n",
       "    <tr>\n",
       "      <th>Actual True</th>\n",
       "      <td>14</td>\n",
       "      <td>74</td>\n",
       "    </tr>\n",
       "  </tbody>\n",
       "</table>\n",
       "</div>"
      ],
      "text/plain": [
       "              Predicted False  Predict True\n",
       "Actual False              567            12\n",
       "Actual True                14            74"
      ]
     },
     "metadata": {},
     "output_type": "display_data"
    },
    {
     "data": {
      "image/png": "[encoded data removed]",
      "text/plain": [
       "<matplotlib.figure.Figure at 0x7f647843b358>"
      ]
     },
     "metadata": {},
     "output_type": "display_data"
    }
   ],
   "source": [
    "clf_lgb_smote = RandomizedSearchCV(LGBMClassifier(objective='binary',\n",
    "                                                  boosting_type='gbdt',\n",
    "                                                  reg_alpha=0.1,\n",
    "                                                  reg_lambda=0,\n",
    "                                                  n_jobs=-1, \n",
    "                                                  seed=0),\n",
    "                                   param_distributions=param_grid, \n",
    "                                   cv=cv, n_jobs=-1,\n",
    "                                   n_iter=50,\n",
    "                                   verbose=1,\n",
    "                                   scoring='f1_weighted')\n",
    "\n",
    "display_result(X_train_res, x_test, y_train_res, y_test, clf_lgb_smote)"
   ]
  },
  {
   "cell_type": "code",
   "execution_count": 58,
   "metadata": {},
   "outputs": [
    {
     "data": {
      "text/plain": [
       "LGBMClassifier(boosting_type='gbdt', colsample_bytree=0.7, learning_rate=0.1,\n",
       "        max_bin=400, max_depth=12, min_child_samples=20,\n",
       "        min_child_weight=1, min_split_gain=0.0, n_estimators=700,\n",
       "        n_jobs=-1, num_leaves=50, objective='binary', random_state=0,\n",
       "        reg_alpha=0.1, reg_lambda=0, seed=0, silent=True, subsample=0.8,\n",
       "        subsample_for_bin=50000, subsample_freq=1)"
      ]
     },
     "execution_count": 58,
     "metadata": {},
     "output_type": "execute_result"
    }
   ],
   "source": [
    "clf_lgb_smote.best_estimator_"
   ]
  },
  {
   "cell_type": "markdown",
   "metadata": {},
   "source": [
    "** 3. Tuning LightGBM using EvolutionaryAlgorithmSearchCV**"
   ]
  },
  {
   "cell_type": "code",
   "execution_count": 55,
   "metadata": {},
   "outputs": [
    {
     "name": "stdout",
     "output_type": "stream",
     "text": [
      "Types [2, 1, 1, 1, 2, 2, 1, 1] and maxint [4, 3, 3, 3, 2, 3, 5, 5] detected\n",
      "--- Evolve in 138240 possible combinations ---\n",
      "gen\tnevals\tavg     \tmin     \tmax     \tstd     \n",
      "0  \t100   \t0.943475\t0.899987\t0.960836\t0.015404\n",
      "1  \t75    \t0.956026\t0.939527\t0.96201 \t0.0036133\n",
      "2  \t55    \t0.959119\t0.95425 \t0.962018\t0.00150121\n",
      "3  \t61    \t0.960138\t0.955782\t0.963241\t0.00144648\n",
      "4  \t55    \t0.961029\t0.94145 \t0.963241\t0.00253532\n",
      "5  \t59    \t0.961816\t0.94263 \t0.963488\t0.00233936\n",
      "6  \t47    \t0.96255 \t0.954949\t0.963488\t0.00120854\n",
      "7  \t63    \t0.962319\t0.927286\t0.963488\t0.00394495\n",
      "8  \t53    \t0.962837\t0.956112\t0.963488\t0.00130012\n",
      "9  \t53    \t0.96261 \t0.927286\t0.963488\t0.00375399\n",
      "10 \t57    \t0.96246 \t0.925289\t0.963781\t0.00553025\n",
      "11 \t55    \t0.962885\t0.942657\t0.963781\t0.00238293\n",
      "12 \t60    \t0.963043\t0.951705\t0.963781\t0.00168435\n",
      "13 \t55    \t0.963562\t0.95684 \t0.963781\t0.000752954\n",
      "14 \t52    \t0.963583\t0.956112\t0.963781\t0.00112787 \n",
      "15 \t61    \t0.963192\t0.92533 \t0.963781\t0.0038731  \n",
      "16 \t59    \t0.963725\t0.960849\t0.96379 \t0.000392971\n",
      "17 \t57    \t0.963284\t0.95684 \t0.96379 \t0.00131036 \n",
      "18 \t64    \t0.963578\t0.960285\t0.96379 \t0.000724292\n",
      "19 \t55    \t0.963545\t0.956983\t0.96379 \t0.00110149 \n",
      "20 \t67    \t0.963553\t0.959845\t0.96379 \t0.000763476\n",
      "21 \t58    \t0.962994\t0.931965\t0.96379 \t0.00361069 \n",
      "22 \t52    \t0.963362\t0.933078\t0.96379 \t0.00310339 \n",
      "23 \t67    \t0.963048\t0.931965\t0.96379 \t0.00362835 \n",
      "24 \t57    \t0.963459\t0.955841\t0.96379 \t0.0011196  \n",
      "25 \t63    \t0.963157\t0.947787\t0.96379 \t0.00245769 \n",
      "26 \t68    \t0.963449\t0.931965\t0.96379 \t0.00317285 \n",
      "27 \t55    \t0.963247\t0.931965\t0.96379 \t0.00329049 \n",
      "28 \t58    \t0.963421\t0.955841\t0.96379 \t0.00125885 \n",
      "29 \t59    \t0.963354\t0.929859\t0.96379 \t0.00341674 \n",
      "30 \t59    \t0.963482\t0.958182\t0.96379 \t0.00103356 \n",
      "Best individual is: {'learning_rate': 0.1, 'n_estimators': 800, 'num_leaves': 45, 'max_depth': 12, 'colsample_bytree': 0.7, 'subsample': 1, 'min_child_samples': 12, 'min_child_weight': 1}\n",
      "with fitness: 0.9637902405032638\n",
      "             precision    recall  f1-score   support\n",
      "\n",
      "          0       0.98      0.97      0.97       579\n",
      "          1       0.82      0.84      0.83        88\n",
      "\n",
      "avg / total       0.96      0.96      0.96       667\n",
      "\n"
     ]
    },
    {
     "data": {
      "text/html": [
       "<div>\n",
       "<style>\n",
       "    .dataframe thead tr:only-child th {\n",
       "        text-align: right;\n",
       "    }\n",
       "\n",
       "    .dataframe thead th {\n",
       "        text-align: left;\n",
       "    }\n",
       "\n",
       "    .dataframe tbody tr th {\n",
       "        vertical-align: top;\n",
       "    }\n",
       "</style>\n",
       "<table border=\"1\" class=\"dataframe\">\n",
       "  <thead>\n",
       "    <tr style=\"text-align: right;\">\n",
       "      <th></th>\n",
       "      <th>Predicted False</th>\n",
       "      <th>Predict True</th>\n",
       "    </tr>\n",
       "  </thead>\n",
       "  <tbody>\n",
       "    <tr>\n",
       "      <th>Actual False</th>\n",
       "      <td>563</td>\n",
       "      <td>16</td>\n",
       "    </tr>\n",
       "    <tr>\n",
       "      <th>Actual True</th>\n",
       "      <td>14</td>\n",
       "      <td>74</td>\n",
       "    </tr>\n",
       "  </tbody>\n",
       "</table>\n",
       "</div>"
      ],
      "text/plain": [
       "              Predicted False  Predict True\n",
       "Actual False              563            16\n",
       "Actual True                14            74"
      ]
     },
     "metadata": {},
     "output_type": "display_data"
    },
    {
     "data": {
      "image/png": "[encoded data removed]",
      "text/plain": [
       "<matplotlib.figure.Figure at 0x7f6474028198>"
      ]
     },
     "metadata": {},
     "output_type": "display_data"
    }
   ],
   "source": [
    "from evolutionary_search import EvolutionaryAlgorithmSearchCV\n",
    "clf_lgb_evo = EvolutionaryAlgorithmSearchCV(estimator=LGBMClassifier(objective='binary',\n",
    "                                                  boosting_type='gbdt',\n",
    "                                                  reg_alpha=0.1,\n",
    "                                                  reg_lambda=0,\n",
    "                                                  n_jobs=-1, \n",
    "                                                  seed=0),\n",
    "                                   params=param_grid,\n",
    "                                   scoring=\"f1_weighted\",\n",
    "                                   cv=cv,\n",
    "                                   verbose=1,\n",
    "                                   population_size=100,\n",
    "                                   gene_mutation_prob=0.10,\n",
    "                                   gene_crossover_prob=0.5,\n",
    "                                   tournament_size=5,\n",
    "                                   generations_number=30,\n",
    "                                   n_jobs=4)\n",
    "\n",
    "display_result(X_train_res, x_test, y_train_res, y_test, clf_lgb_evo)"
   ]
  },
  {
   "cell_type": "markdown",
   "metadata": {},
   "source": [
    "The result from the RandomizedSearchCV is slightly better (maynot be significant) than the one getting from the EvolutionaryAlgorithmSearchCV. It tooks several runs (with adjustment on parameters) of RandomizedSearchCV to get the above result, but with smaller batches, I ended up arrive at the result sooner than the EvolutionaryAlgorithmSearchCV, which took more than two hours to run on a laptop with an intel i7 4600mq and 16GB of RAM."
   ]
  },
  {
   "cell_type": "code",
   "execution_count": null,
   "metadata": {
    "collapsed": true
   },
   "outputs": [],
   "source": []
  }
 ],
 "metadata": {
  "kernelspec": {
   "display_name": "Python 3",
   "language": "python",
   "name": "python3"
  },
  "language_info": {
   "codemirror_mode": {
    "name": "ipython",
    "version": 3
   },
   "file_extension": ".py",
   "mimetype": "text/x-python",
   "name": "python",
   "nbconvert_exporter": "python",
   "pygments_lexer": "ipython3",
   "version": "3.6.3"
  }
 },
 "nbformat": 4,
 "nbformat_minor": 2
}
