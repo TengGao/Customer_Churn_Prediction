{
  "nbformat": 4,
  "nbformat_minor": 0,
  "metadata": {
    "colab": {
      "provenance": [],
      "mount_file_id": "1FF9iGjkbCXAPH6cEHt_Ou3jIsjvgkw23",
      "authorship_tag": "ABX9TyPT+HDm/bvKmNgfFjqpx0OY",
      "include_colab_link": true
    },
    "kernelspec": {
      "name": "python3",
      "display_name": "Python 3"
    },
    "language_info": {
      "name": "python"
    }
  },
  "cells": [
    {
      "cell_type": "markdown",
      "metadata": {
        "id": "view-in-github",
        "colab_type": "text"
      },
      "source": [
        "<a href=\"https://colab.research.google.com/github/TengGao/Customer_Churn_Prediction/blob/master/machine_learning_from_scratch.ipynb\" target=\"_parent\"><img src=\"https://colab.research.google.com/assets/colab-badge.svg\" alt=\"Open In Colab\"/></a>"
      ]
    },
    {
      "cell_type": "code",
      "source": [
        "import pandas as pd\n",
        "import numpy as np\n",
        "import math\n",
        "from collections import Counter\n",
        "from sklearn.preprocessing import LabelEncoder"
      ],
      "metadata": {
        "id": "1OO2TcXLSF9H"
      },
      "execution_count": 8,
      "outputs": []
    },
    {
      "cell_type": "markdown",
      "source": [
        "### Oridnary Least Square Fit Using Matrix Inversion Pesudo Code\n",
        "\n",
        "1. Initializes an instance of the OrdinaryLeastSquares class, setting the beta attribute to None. This attribute will store the model coefficients after fitting.\n",
        "2. Fitting the Model:\n",
        "* Computes the matrix $X^tX$ and its inverse;\n",
        "* Calculates $X^ty$;\n",
        "* Derive the coefficient $\\beta$ by $$\\beta = (X^tX)^{-1}X^ty$$\n",
        "3. Prediction by $y = X^t\\beta$."
      ],
      "metadata": {
        "id": "OM6dyn4oTQ-n"
      }
    },
    {
      "cell_type": "code",
      "source": [
        "class OrdinaryLeastSquares:\n",
        "    def __init__(self):\n",
        "        self.beta = None  # Coefficients will be set after fitting the model\n",
        "\n",
        "    def fit(self, X, y):\n",
        "        # Step 1: Calculate X^T X\n",
        "        XTX = np.dot(X.T, X)\n",
        "\n",
        "        # Step 2: Calculate the inverse of X^T X\n",
        "        XTX_inv = np.linalg.inv(XTX)\n",
        "\n",
        "        # Step 3: Calculate X^T y\n",
        "        XTy = np.dot(X.T, y)\n",
        "\n",
        "        # Step 4: Calculate the coefficients (beta)\n",
        "        self.beta = np.dot(XTX_inv, XTy)\n",
        "\n",
        "    def predict(self, X):\n",
        "        # Make predictions using the learned coefficients\n",
        "        return np.dot(X, self.beta)\n",
        "\n",
        "# Test\n",
        "X = np.array([\n",
        "    [1, 1],  # Added a column of ones already for the intercept\n",
        "    [1, 2],\n",
        "    [1, 3],\n",
        "    [1, 4],\n",
        "    [1, 5]\n",
        "])\n",
        "y = np.array([1, 2, 1.3, 3.75, 2.25])\n",
        "\n",
        "model = OrdinaryLeastSquares()\n",
        "model.fit(X, y)\n",
        "print(\"Coefficients:\", model.beta)\n",
        "\n",
        "# Predicting values\n",
        "predicted_y = model.predict(X)\n",
        "print(\"Predicted values:\", predicted_y)"
      ],
      "metadata": {
        "colab": {
          "base_uri": "https://localhost:8080/"
        },
        "id": "fH5cwimaL8jQ",
        "outputId": "57e2fbb8-62af-4f9b-8b48-49c2fd6ed827"
      },
      "execution_count": 6,
      "outputs": [
        {
          "output_type": "stream",
          "name": "stdout",
          "text": [
            "Coefficients: [0.785 0.425]\n",
            "Predicted values: [1.21  1.635 2.06  2.485 2.91 ]\n"
          ]
        }
      ]
    },
    {
      "cell_type": "code",
      "source": [
        "class LinearRegressionGD:\n",
        "    def __init__(self, learning_rate=0.1, n_iterations=1000):\n",
        "        self.learning_rate = learning_rate\n",
        "        self.n_iterations = n_iterations\n",
        "        self.beta = None  # Coefficients will be set after fitting the model\n",
        "\n",
        "    def fit(self, X, y):\n",
        "        m = len(X)\n",
        "        X_b = np.c_[np.ones((m, 1)), X]  # Add intercept term\n",
        "        self.beta = np.random.randn(X_b.shape[1], 1)  # Random initialization of parameters\n",
        "\n",
        "        for iteration in range(self.n_iterations):\n",
        "            gradients = -2/m * X_b.T @ (y - X_b @ self.beta)  # Using @ for matrix multiplication\n",
        "            self.beta -= self.learning_rate * gradients\n",
        "\n",
        "    def predict(self, X):\n",
        "        X_b = np.c_[np.ones((len(X), 1)), X]  # Add intercept term\n",
        "        return X_b @ self.beta  # Using @ for matrix multiplication\n",
        "\n",
        "# Sample Data Generation\n",
        "np.random.seed(0)\n",
        "X = 2 * np.random.rand(100, 1)\n",
        "y = 4 + 3 * X + np.random.randn(100, 1)\n",
        "\n",
        "# Create an instance of the LinearRegressionGD class\n",
        "model = LinearRegressionGD(learning_rate=0.1, n_iterations=1000)\n",
        "model.fit(X, y)  # Fit the model\n",
        "\n",
        "# Make predictions\n",
        "X_new = np.array([[0], [2]])\n",
        "y_predict = model.predict(X_new)\n",
        "\n",
        "print(\"Estimated coefficients:\", model.beta)\n",
        "print(\"Predictions:\", y_predict)\n"
      ],
      "metadata": {
        "colab": {
          "base_uri": "https://localhost:8080/"
        },
        "id": "AgWczsyGZaKJ",
        "outputId": "4f38edcb-42d6-47f8-a1e1-b7300882da8c"
      },
      "execution_count": 2,
      "outputs": [
        {
          "output_type": "stream",
          "name": "stdout",
          "text": [
            "Estimated coefficients: [[4.22215108]\n",
            " [2.96846751]]\n",
            "Predictions: [[ 4.22215108]\n",
            " [10.1590861 ]]\n"
          ]
        }
      ]
    },
    {
      "cell_type": "code",
      "source": [
        "# Implementing Decision Tree Classifier\n",
        "# 1. Start at the root node with the whole dataset.\n",
        "# 1. For each feature, calculate the potential information gain of splitting on that feature.\n",
        "# 1. Choose the feature with the highest information gain.\n",
        "# 1. Split the dataset into subsets using the chosen feature.\n",
        "# 1. Recursively repeat the process for each subset until one of the stopping criteria is met (e.g., all members of a subset have the same class, the subset reaches a minimum size, or maximum depth is reached).\n",
        "class DecisionTree:\n",
        "    def __init__(self, max_depth=3):\n",
        "        self.max_depth = max_depth\n",
        "        self.tree = None\n",
        "\n",
        "    def fit(self, X, y):\n",
        "        self.features = X.shape[1]\n",
        "        self.tree = self._build_tree(X, y, 0)\n",
        "\n",
        "    def _build_tree(self, X, y, depth):\n",
        "        num_samples, num_features = X.shape\n",
        "        # Stop criteria\n",
        "        if depth == self.max_depth or len(np.unique(y)) == 1:\n",
        "            most_common_label = np.bincount(y).argmax()\n",
        "            return {'label': most_common_label}\n",
        "\n",
        "        # Find the best split\n",
        "        best_gain = -1\n",
        "        best_feature = None\n",
        "        best_threshold = None\n",
        "        for feature_index in range(num_features):\n",
        "            thresholds = np.unique(X[:, feature_index])\n",
        "            for threshold in thresholds:\n",
        "                gain = self._information_gain(X, y, feature_index, threshold)\n",
        "                if gain > best_gain:\n",
        "                    best_gain = gain\n",
        "                    best_feature = feature_index\n",
        "                    best_threshold = threshold\n",
        "\n",
        "        # Grow the tree recursively\n",
        "        left_mask = X[:, best_feature] <= best_threshold\n",
        "        right_mask = X[:, best_feature] > best_threshold\n",
        "        left_child = self._build_tree(X[left_mask], y[left_mask], depth + 1)\n",
        "        right_child = self._build_tree(X[right_mask], y[right_mask], depth + 1)\n",
        "        return {'feature_index': best_feature, 'threshold': best_threshold, 'left': left_child, 'right': right_child, 'info_gain': best_gain}\n",
        "\n",
        "    def _entropy(self, y):\n",
        "        _, counts = np.unique(y, return_counts=True)\n",
        "        probabilities = counts / counts.sum()\n",
        "        return -np.sum(probabilities * np.log2(probabilities))\n",
        "\n",
        "    def _information_gain(self, X, y, feature_index, threshold):\n",
        "        parent_entropy = self._entropy(y)\n",
        "        left_mask = X[:, feature_index] <= threshold\n",
        "        right_mask = X[:, feature_index] > threshold\n",
        "        left_entropy = self._entropy(y[left_mask])\n",
        "        right_entropy = self._entropy(y[right_mask])\n",
        "        n = len(y)\n",
        "        n_left, n_right = left_mask.sum(), right_mask.sum()\n",
        "        child_entropy = (n_left / n) * left_entropy + (n_right / n) * right_entropy\n",
        "        return parent_entropy - child_entropy\n",
        "\n",
        "    def predict(self, X):\n",
        "        predictions = [self._predict(inputs, self.tree) for inputs in X]\n",
        "        return np.array(predictions)\n",
        "\n",
        "    def _predict(self, inputs, tree):\n",
        "        if 'label' in tree:\n",
        "            return tree['label']\n",
        "        feature_index = tree['feature_index']\n",
        "        threshold = tree['threshold']\n",
        "        if inputs[feature_index] <= threshold:\n",
        "            return self._predict(inputs, tree['left'])\n",
        "        else:\n",
        "            return self._predict(inputs, tree['right'])\n",
        "\n",
        "# Example Usage\n",
        "from sklearn.datasets import load_iris\n",
        "data = load_iris()\n",
        "X, y = data.data, data.target\n",
        "dt = DecisionTree(max_depth=3)\n",
        "dt.fit(X, y)\n",
        "\n",
        "Predicting\n",
        "print(dt.predict(X[:5]))\n",
        "\n",
        "# Example Usage 2\n",
        "data = {\n",
        "    'Outlook': ['Sunny', 'Sunny', 'Overcast', 'Rain', 'Rain', 'Rain', 'Overcast', 'Sunny', 'Sunny', 'Rain', 'Sunny', 'Overcast', 'Overcast', 'Rain'],\n",
        "    'Temperature': ['Hot', 'Hot', 'Hot', 'Mild', 'Cool', 'Cool', 'Cool', 'Mild', 'Cool', 'Mild', 'Mild', 'Mild', 'Hot', 'Mild'],\n",
        "    'Humidity': ['High', 'High', 'High', 'High', 'Normal', 'Normal', 'Normal', 'High', 'Normal', 'Normal', 'Normal', 'High', 'Normal', 'High'],\n",
        "    'Wind': ['Weak', 'Strong', 'Weak', 'Weak', 'Weak', 'Strong', 'Strong', 'Weak', 'Weak', 'Weak', 'Strong', 'Strong', 'Weak', 'Strong'],\n",
        "    'Play Tennis': ['No', 'No', 'Yes', 'Yes', 'Yes', 'No', 'Yes', 'No', 'Yes', 'Yes', 'Yes', 'Yes', 'Yes', 'No']\n",
        "}\n",
        "\n",
        "df = pd.DataFrame(data)\n",
        "\n",
        "# Encoding categorical data\n",
        "label_encoder = LabelEncoder()\n",
        "for column in df.columns:\n",
        "    df[column] = label_encoder.fit_transform(df[column])\n",
        "\n",
        "# Split features and target\n",
        "X = df.drop('Play Tennis', axis=1).values\n",
        "y = df['Play Tennis'].values\n",
        "\n",
        "dt = DecisionTree(max_depth=3)\n",
        "dt.fit(X, y)\n",
        "\n",
        "# Predicting\n",
        "print(dt.predict(X[:5]))"
      ],
      "metadata": {
        "colab": {
          "base_uri": "https://localhost:8080/"
        },
        "id": "9VaqkvFCvU2i",
        "outputId": "15dd20e7-e53b-461f-baf8-825cb325204c"
      },
      "execution_count": 9,
      "outputs": [
        {
          "output_type": "stream",
          "name": "stdout",
          "text": [
            "[0 0 1 0 1]\n"
          ]
        }
      ]
    },
    {
      "cell_type": "code",
      "source": [
        "# Python Implementation Of Support Vector Machine\n",
        "class LinearSVM:\n",
        "    def __init__(self, learning_rate=0.01, lambda_param=0.01, n_iterations=1000):\n",
        "        self.learning_rate = learning_rate\n",
        "        self.lambda_param = lambda_param\n",
        "        self.n_iterations = n_iterations\n",
        "        self.w = None\n",
        "        self.b = 0\n",
        "\n",
        "    def fit(self, X, y):\n",
        "        n, d = X.shape\n",
        "        y_ = np.where(y <= 0, -1, 1)\n",
        "        self.w = np.zeros(d)\n",
        "\n",
        "        for _ in range(self.n_iterations):\n",
        "            for idx, x_i in enumerate(X):\n",
        "                condition = y_[idx] * (np.dot(x_i, self.w) - self.b) >= 1\n",
        "                if condition:\n",
        "                    self.w -= self.learning_rate * (2 * self.lambda_param * self.w)\n",
        "                else:\n",
        "                    self.w -= self.learning_rate * (2 * self.lambda_param * self.w - np.dot(x_i, y_[idx]))\n",
        "                    self.b -= self.learning_rate * y_[idx]\n",
        "\n",
        "    def predict(self, X):\n",
        "        return np.sign(np.dot(X, self.w) - self.b)\n",
        "\n",
        "# Example usage\n",
        "from sklearn import datasets\n",
        "X, y = datasets.make_blobs(n_samples=50, n_features=2, centers=2, cluster_std=1.05, random_state=40)\n",
        "y = np.where(y == 0, -1, 1)  # Convert to -1, 1\n",
        "\n",
        "# Training the model\n",
        "model = LinearSVM()\n",
        "model.fit(X, y)\n",
        "\n",
        "# Predicting new data\n",
        "predictions = model.predict(X)"
      ],
      "metadata": {
        "id": "SYd0hIT9qEXh"
      },
      "execution_count": null,
      "outputs": []
    },
    {
      "cell_type": "code",
      "source": [
        "class KNearestNeighbors:\n",
        "    def __init__(self, k=3):\n",
        "        self.k = k\n",
        "\n",
        "    def fit(self, X, y):\n",
        "        self.X_train = X\n",
        "        self.y_train = y\n",
        "\n",
        "    def predict(self, X):\n",
        "        y_pred = [self._predict(x) for x in X]\n",
        "        return np.array(y_pred)\n",
        "\n",
        "    def _predict(self, x):\n",
        "        # Compute distances between x and all examples in the training set\n",
        "        distances = [np.sqrt(np.sum((x_train - x) ** 2)) for x_train in self.X_train]\n",
        "        # Sort by distance and return indices of the first k neighbors\n",
        "        k_indices = np.argsort(distances)[:self.k]\n",
        "        # Extract the labels of the k nearest neighbors\n",
        "        k_nearest_labels = [self.y_train[i] for i in k_indices]\n",
        "        # Majority vote, most common class label\n",
        "        most_common = Counter(k_nearest_labels).most_common(1)\n",
        "        return most_common[0][0]\n",
        "\n",
        "# Example usage\n",
        "from sklearn.datasets import load_iris\n",
        "iris = load_iris()\n",
        "X, y = iris.data, iris.target\n",
        "\n",
        "# Splitting the dataset for the demonstration (normally use train-test split)\n",
        "X_train, X_test = X[:100], X[100:]\n",
        "y_train, y_test = y[:100], y[100:]\n",
        "\n",
        "# Creating an instance of KNearestNeighbors with k=3\n",
        "knn = KNearestNeighbors(k=3)\n",
        "knn.fit(X_train, y_train)\n",
        "\n",
        "# Making predictions\n",
        "predictions = knn.predict(X_test)\n",
        "print(\"Predicted labels:\", predictions)\n"
      ],
      "metadata": {
        "id": "J2Nhi2tYxbly"
      },
      "execution_count": null,
      "outputs": []
    },
    {
      "cell_type": "code",
      "source": [
        "# Implement K-Mean Clustering\n",
        "# Key Concepts of k-Means\n",
        "# 1. Initialization:  Randomly select 𝑘. k points as the initial centroids or use smart initialization techniques like k-means++.\n",
        "# 1. Assignment: Assign each point to the nearest centroid based on the Euclidean distance.\n",
        "# 1. Update: Recalculate the centroids as the mean of the points assigned to each cluster.\n",
        "# 1. Iteration: Repeat the assignment and update steps until convergence (i.e., when the assignments no longer change or the changes are minimal).\n",
        "\n",
        "class KMeans:\n",
        "    def __init__(self, k=3, tol=0.0001, max_iter=300):\n",
        "        self.k = k\n",
        "        self.tol = tol\n",
        "        self.max_iter = max_iter\n",
        "\n",
        "    def fit(self, data):\n",
        "        self.centroids = {}\n",
        "\n",
        "        # Initialize centroids by picking random data points\n",
        "        for i in range(self.k):\n",
        "            self.centroids[i] = data[np.random.randint(len(data))]\n",
        "\n",
        "        for i in range(self.max_iter):\n",
        "            self.clusters = {i: [] for i in range(self.k)}\n",
        "\n",
        "            # Assign each data point to the closest centroid\n",
        "            for point in data:\n",
        "                distances = [np.linalg.norm(point - self.centroids[centroid]) for centroid in self.centroids]\n",
        "                cluster = np.argmin(distances)\n",
        "                self.clusters[cluster].append(point)\n",
        "\n",
        "            prev_centroids = dict(self.centroids)\n",
        "\n",
        "            # Recalculate centroids\n",
        "            for cluster in self.clusters:\n",
        "                self.centroids[cluster] = np.average(self.clusters[cluster], axis=0)\n",
        "\n",
        "            optimized = True\n",
        "            for c in self.centroids:\n",
        "                original_centroid = prev_centroids[c]\n",
        "                current_centroid = self.centroids[c]\n",
        "                if np.sum((current_centroid - original_centroid) / original_centroid * 100.0) > self.tol:\n",
        "                    optimized = False\n",
        "\n",
        "            if optimized:\n",
        "                break\n",
        "\n",
        "    def predict(self, data):\n",
        "        predictions = []\n",
        "        for point in data:\n",
        "            distances = [np.linalg.norm(point - self.centroids[centroid]) for centroid in self.centroids]\n",
        "            prediction = distances.index(min(distances))\n",
        "            predictions.append(prediction)\n",
        "        return predictions\n",
        "\n",
        "# Example usage\n",
        "from sklearn.datasets import make_blobs\n",
        "X, _ = make_blobs(n_samples=300, centers=3, cluster_std=0.60, random_state=0)\n",
        "\n",
        "# Creating an instance of KMeans with k=3\n",
        "model = KMeans(k=3)\n",
        "model.fit(X)\n",
        "\n",
        "# Making predictions\n",
        "predictions = model.predict(X)\n",
        "\n",
        "# Optionally, plotting the results\n",
        "import matplotlib.pyplot as plt\n",
        "\n",
        "plt.scatter(X[:, 0], X[:, 1], c=predictions, s=50, cmap='viridis')\n",
        "centers = np.array(list(model.centroids.values()))\n",
        "plt.scatter(centers[:, 0], centers[:, 1], c='red', s=200, alpha=0.5)\n",
        "plt.show()"
      ],
      "metadata": {
        "colab": {
          "base_uri": "https://localhost:8080/",
          "height": 430
        },
        "id": "SA6RXKFd1FBU",
        "outputId": "cd332b78-dccd-48f2-af4b-29491c79fbc4"
      },
      "execution_count": 4,
      "outputs": [
        {
          "output_type": "display_data",
          "data": {
            "text/plain": [
              "<Figure size 640x480 with 1 Axes>"
            ],
            "image/png": "[encoded data removed]"
          },
          "metadata": {}
        }
      ]
    },
    {
      "cell_type": "code",
      "source": [
        "class NeuralNetwork:\n",
        "    def __init__(self, x, y):\n",
        "        self.input      = x\n",
        "        self.weights1   = np.random.rand(self.input.shape[1], 4)  # Weights for the hidden layer (4 neurons)\n",
        "        self.weights2   = np.random.rand(4, 1)                   # Weights for the output layer\n",
        "        self.y          = y\n",
        "        self.output     = np.zeros(self.y.shape)  # Output layer results\n",
        "\n",
        "    def sigmoid(self, z):\n",
        "        return 1 / (1 + np.exp(-z))\n",
        "\n",
        "    def sigmoid_derivative(self, z):\n",
        "        return z * (1 - z)\n",
        "\n",
        "    def feedforward(self):\n",
        "        self.layer1 = self.sigmoid(np.dot(self.input, self.weights1))\n",
        "        self.output = self.sigmoid(np.dot(self.layer1, self.weights2))\n",
        "\n",
        "    def backprop(self):\n",
        "        # Application of the chain rule to find derivative of the loss function with respect to weights2 and weights1\n",
        "        d_weights2 = np.dot(self.layer1.T, (2*(self.y - self.output) * self.sigmoid_derivative(self.output)))\n",
        "        d_weights1 = np.dot(self.input.T,  (np.dot(2*(self.y - self.output) * self.sigmoid_derivative(self.output), self.weights2.T) * self.sigmoid_derivative(self.layer1)))\n",
        "\n",
        "        # Update the weights with the derivative (slope) of the loss function\n",
        "        self.weights1 += d_weights1\n",
        "        self.weights2 += d_weights2\n",
        "\n",
        "    def train(self, iterations):\n",
        "        for i in range(iterations):\n",
        "            self.feedforward()\n",
        "            self.backprop()\n",
        "\n",
        "\n",
        "X = np.array([[0,0,1],\n",
        "                [0,1,1],\n",
        "                [1,0,1],\n",
        "                [1,1,1]])\n",
        "y = np.array([[0],[1],[1],[0]])\n",
        "nn = NeuralNetwork(X,y)\n",
        "\n",
        "nn.train(iterations=1500)\n",
        "print(nn.output)\n"
      ],
      "metadata": {
        "colab": {
          "base_uri": "https://localhost:8080/"
        },
        "id": "k_NUG7cW1pAs",
        "outputId": "8f667a9c-175e-424b-b8e3-3a95079ea261"
      },
      "execution_count": 5,
      "outputs": [
        {
          "output_type": "stream",
          "name": "stdout",
          "text": [
            "[[0.00887877]\n",
            " [0.9700102 ]\n",
            " [0.97001992]\n",
            " [0.0367412 ]]\n"
          ]
        }
      ]
    },
    {
      "cell_type": "code",
      "source": [],
      "metadata": {
        "id": "_pO0Y7rpGhT4"
      },
      "execution_count": null,
      "outputs": []
    }
  ]
}