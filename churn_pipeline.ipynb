{
 "cells": [
  {
   "cell_type": "code",
   "execution_count": 1,
   "metadata": {},
   "outputs": [],
   "source": [
    "import pandas as pd\n",
    "import numpy as np\n",
    "import matplotlib.pyplot as plt\n",
    "%matplotlib inline\n",
    "\n",
    "from sklearn.pipeline import TransformerMixin\n",
    "from sklearn.preprocessing import StandardScaler, LabelEncoder\n",
    "from sklearn.pipeline import make_pipeline\n",
    "from sklearn.metrics import classification_report, confusion_matrix, roc_auc_score, roc_curve\n",
    "from sklearn.linear_model import LogisticRegression\n",
    "from sklearn.ensemble import RandomForestClassifier\n",
    "from sklearn.tree import DecisionTreeClassifier\n",
    "from sklearn.naive_bayes import GaussianNB\n",
    "from xgboost import XGBClassifier\n",
    "from sklearn.model_selection import train_test_split, KFold\n",
    "\n",
    "import warnings\n",
    "warnings.filterwarnings('ignore')"
   ]
  },
  {
   "cell_type": "code",
   "execution_count": 2,
   "metadata": {},
   "outputs": [],
   "source": [
    "from sklearn.base import BaseEstimator\n",
    "class Drop_columns(BaseEstimator,TransformerMixin):\n",
    "    def __init__(self, columns=None):\n",
    "        self.columns = columns\n",
    "        \n",
    "    def transform(self, X, y=None, **kwargs):\n",
    "        try:\n",
    "            return X.drop(self.columns, axis=1)\n",
    "        except ValueError:\n",
    "            print ('No such columns!')\n",
    "            \n",
    "    def fit(self, X, y=None, **kwargs):\n",
    "        return self\n",
    "\n",
    "class DummyEncoder(BaseEstimator,TransformerMixin):\n",
    "\n",
    "    def __init__(self, columns=None):\n",
    "\n",
    "        self.columns = columns\n",
    "\n",
    "    def transform(self, X, y=None, **kwargs):\n",
    "\n",
    "        return pd.get_dummies(X, columns=self.columns, drop_first=True)\n",
    "\n",
    "    def fit(self, X, y=None, **kwargs):\n",
    "\n",
    "        return self\n",
    "    \n",
    "class Encoder(BaseEstimator,TransformerMixin):\n",
    "    \n",
    "    def __init__(self, columns=None):\n",
    "        \n",
    "        self.columns = columns\n",
    "    \n",
    "    def transform(self, X, y=None, **kwargs):\n",
    "        \n",
    "        le = LabelEncoder()\n",
    "        for col in self.columns:\n",
    "            X[col] = le.fit_transform(X[col])\n",
    "        return X\n",
    "    \n",
    "    def fit(self, X, y=None, **kwargs):\n",
    "        \n",
    "        return self\n",
    "\n",
    "def display_result(X_train, X_test, y_train, y_test, clf, display_roc=True):\n",
    "    \n",
    "    clf.fit(X_train, y_train)\n",
    "    y_pred = clf.predict(X_test)\n",
    "    \n",
    "    print (classification_report(y_test, y_pred))\n",
    "\n",
    "\n",
    "    matrix = pd.DataFrame(\n",
    "           confusion_matrix(y_test,y_pred),\n",
    "            columns=['Predicted False', 'Predict True'],\n",
    "            index = ['Actual False', 'Actual True'])\n",
    "    display(matrix)\n",
    "    \n",
    "    fpr, tpr, thresholds = roc_curve(y_test, clf.predict_proba(X_test)[:,1])\n",
    "    if display_roc:\n",
    "        \n",
    "        plt.plot(fpr, tpr,label='%s (area = %0.2f)' % ('LogisticRegression', roc_auc_score(y_test, y_pred)))\n",
    "        # Plot Base Rate ROC\n",
    "        plt.plot([0,1], [0,1],label='Base Rate' 'k--')\n",
    "\n",
    "        plt.xlim([0.0, 1.0])\n",
    "        plt.ylim([0.0, 1.05])\n",
    "        plt.xlabel('False Positive Rate')\n",
    "        plt.ylabel('True Positive Rate')\n",
    "        plt.title('ROC Graph')\n",
    "        plt.legend(loc=\"lower right\")\n",
    "        plt.show()\n",
    "        return\n",
    "    return fpr, tpr, thresholds, y_pred\n",
    "\n",
    "def read_data(onehot=False, label=False, return_cat_columns=False):\n",
    "    df = pd.read_csv('churn.csv')\n",
    "    df.columns = df.columns.str.lower().str.replace(' ','_')\n",
    "    df.rename(columns={'churn?':'churn', \"int'l_plan\":'intl_plan'}, inplace=True)\n",
    "    df = (df.drop(['phone','day_charge','eve_charge','night_charge','intl_charge'], axis=1)\n",
    "            .replace(['True.','False.'],[1,0]))\n",
    "    df.area_code = df.area_code.astype('object')\n",
    "    if label:\n",
    "        df = df.replace(['yes','no'],[1,0])\n",
    "    if onehot:\n",
    "        df = pd.get_dummies(df, columns=['state','area_code'], drop_first=True)\n",
    "    if return_cat_columns:\n",
    "        return df, df.dtypes[df.dtypes==object].index.values.tolist()\n",
    "    else:\n",
    "        return df"
   ]
  },
  {
   "cell_type": "markdown",
   "metadata": {},
   "source": [
    "### 1. Baseline Model"
   ]
  },
  {
   "cell_type": "code",
   "execution_count": 3,
   "metadata": {},
   "outputs": [],
   "source": [
    "df, cat_cols = read_data(return_cat_columns=True)\n",
    "X_train, X_test, y_train, y_test = train_test_split(df.drop('churn', axis=1), df.churn.values, test_size=0.2,\n",
    "                                                   random_state=0)"
   ]
  },
  {
   "cell_type": "code",
   "execution_count": 4,
   "metadata": {},
   "outputs": [],
   "source": [
    "cols = ['area_code', 'intl_plan', 'vmail_plan']"
   ]
  },
  {
   "cell_type": "code",
   "execution_count": 5,
   "metadata": {
    "scrolled": false
   },
   "outputs": [
    {
     "name": "stdout",
     "output_type": "stream",
     "text": [
      "Logistic Regression\n",
      "             precision    recall  f1-score   support\n",
      "\n",
      "          0       0.96      0.60      0.74       579\n",
      "          1       0.24      0.83      0.37        88\n",
      "\n",
      "avg / total       0.86      0.63      0.69       667\n",
      "\n"
     ]
    },
    {
     "data": {
      "text/html": [
       "<div>\n",
       "<style>\n",
       "    .dataframe thead tr:only-child th {\n",
       "        text-align: right;\n",
       "    }\n",
       "\n",
       "    .dataframe thead th {\n",
       "        text-align: left;\n",
       "    }\n",
       "\n",
       "    .dataframe tbody tr th {\n",
       "        vertical-align: top;\n",
       "    }\n",
       "</style>\n",
       "<table border=\"1\" class=\"dataframe\">\n",
       "  <thead>\n",
       "    <tr style=\"text-align: right;\">\n",
       "      <th></th>\n",
       "      <th>Predicted False</th>\n",
       "      <th>Predict True</th>\n",
       "    </tr>\n",
       "  </thead>\n",
       "  <tbody>\n",
       "    <tr>\n",
       "      <th>Actual False</th>\n",
       "      <td>350</td>\n",
       "      <td>229</td>\n",
       "    </tr>\n",
       "    <tr>\n",
       "      <th>Actual True</th>\n",
       "      <td>15</td>\n",
       "      <td>73</td>\n",
       "    </tr>\n",
       "  </tbody>\n",
       "</table>\n",
       "</div>"
      ],
      "text/plain": [
       "              Predicted False  Predict True\n",
       "Actual False              350           229\n",
       "Actual True                15            73"
      ]
     },
     "metadata": {},
     "output_type": "display_data"
    },
    {
     "name": "stdout",
     "output_type": "stream",
     "text": [
      "Logistic Regression drop State\n",
      "             precision    recall  f1-score   support\n",
      "\n",
      "          0       0.97      0.63      0.77       579\n",
      "          1       0.27      0.89      0.41        88\n",
      "\n",
      "avg / total       0.88      0.67      0.72       667\n",
      "\n"
     ]
    },
    {
     "data": {
      "text/html": [
       "<div>\n",
       "<style>\n",
       "    .dataframe thead tr:only-child th {\n",
       "        text-align: right;\n",
       "    }\n",
       "\n",
       "    .dataframe thead th {\n",
       "        text-align: left;\n",
       "    }\n",
       "\n",
       "    .dataframe tbody tr th {\n",
       "        vertical-align: top;\n",
       "    }\n",
       "</style>\n",
       "<table border=\"1\" class=\"dataframe\">\n",
       "  <thead>\n",
       "    <tr style=\"text-align: right;\">\n",
       "      <th></th>\n",
       "      <th>Predicted False</th>\n",
       "      <th>Predict True</th>\n",
       "    </tr>\n",
       "  </thead>\n",
       "  <tbody>\n",
       "    <tr>\n",
       "      <th>Actual False</th>\n",
       "      <td>366</td>\n",
       "      <td>213</td>\n",
       "    </tr>\n",
       "    <tr>\n",
       "      <th>Actual True</th>\n",
       "      <td>10</td>\n",
       "      <td>78</td>\n",
       "    </tr>\n",
       "  </tbody>\n",
       "</table>\n",
       "</div>"
      ],
      "text/plain": [
       "              Predicted False  Predict True\n",
       "Actual False              366           213\n",
       "Actual True                10            78"
      ]
     },
     "metadata": {},
     "output_type": "display_data"
    },
    {
     "name": "stdout",
     "output_type": "stream",
     "text": [
      "Decision Tree\n",
      "             precision    recall  f1-score   support\n",
      "\n",
      "          0       0.96      0.92      0.94       579\n",
      "          1       0.60      0.76      0.67        88\n",
      "\n",
      "avg / total       0.91      0.90      0.91       667\n",
      "\n"
     ]
    },
    {
     "data": {
      "text/html": [
       "<div>\n",
       "<style>\n",
       "    .dataframe thead tr:only-child th {\n",
       "        text-align: right;\n",
       "    }\n",
       "\n",
       "    .dataframe thead th {\n",
       "        text-align: left;\n",
       "    }\n",
       "\n",
       "    .dataframe tbody tr th {\n",
       "        vertical-align: top;\n",
       "    }\n",
       "</style>\n",
       "<table border=\"1\" class=\"dataframe\">\n",
       "  <thead>\n",
       "    <tr style=\"text-align: right;\">\n",
       "      <th></th>\n",
       "      <th>Predicted False</th>\n",
       "      <th>Predict True</th>\n",
       "    </tr>\n",
       "  </thead>\n",
       "  <tbody>\n",
       "    <tr>\n",
       "      <th>Actual False</th>\n",
       "      <td>535</td>\n",
       "      <td>44</td>\n",
       "    </tr>\n",
       "    <tr>\n",
       "      <th>Actual True</th>\n",
       "      <td>21</td>\n",
       "      <td>67</td>\n",
       "    </tr>\n",
       "  </tbody>\n",
       "</table>\n",
       "</div>"
      ],
      "text/plain": [
       "              Predicted False  Predict True\n",
       "Actual False              535            44\n",
       "Actual True                21            67"
      ]
     },
     "metadata": {},
     "output_type": "display_data"
    },
    {
     "name": "stdout",
     "output_type": "stream",
     "text": [
      "Random Forest\n",
      "             precision    recall  f1-score   support\n",
      "\n",
      "          0       0.93      0.98      0.95       579\n",
      "          1       0.77      0.52      0.62        88\n",
      "\n",
      "avg / total       0.91      0.92      0.91       667\n",
      "\n"
     ]
    },
    {
     "data": {
      "text/html": [
       "<div>\n",
       "<style>\n",
       "    .dataframe thead tr:only-child th {\n",
       "        text-align: right;\n",
       "    }\n",
       "\n",
       "    .dataframe thead th {\n",
       "        text-align: left;\n",
       "    }\n",
       "\n",
       "    .dataframe tbody tr th {\n",
       "        vertical-align: top;\n",
       "    }\n",
       "</style>\n",
       "<table border=\"1\" class=\"dataframe\">\n",
       "  <thead>\n",
       "    <tr style=\"text-align: right;\">\n",
       "      <th></th>\n",
       "      <th>Predicted False</th>\n",
       "      <th>Predict True</th>\n",
       "    </tr>\n",
       "  </thead>\n",
       "  <tbody>\n",
       "    <tr>\n",
       "      <th>Actual False</th>\n",
       "      <td>565</td>\n",
       "      <td>14</td>\n",
       "    </tr>\n",
       "    <tr>\n",
       "      <th>Actual True</th>\n",
       "      <td>42</td>\n",
       "      <td>46</td>\n",
       "    </tr>\n",
       "  </tbody>\n",
       "</table>\n",
       "</div>"
      ],
      "text/plain": [
       "              Predicted False  Predict True\n",
       "Actual False              565            14\n",
       "Actual True                42            46"
      ]
     },
     "metadata": {},
     "output_type": "display_data"
    },
    {
     "name": "stdout",
     "output_type": "stream",
     "text": [
      "Decision Tree without Scaling\n",
      "             precision    recall  f1-score   support\n",
      "\n",
      "          0       0.97      0.91      0.94       579\n",
      "          1       0.58      0.78      0.67        88\n",
      "\n",
      "avg / total       0.91      0.90      0.90       667\n",
      "\n"
     ]
    },
    {
     "data": {
      "text/html": [
       "<div>\n",
       "<style>\n",
       "    .dataframe thead tr:only-child th {\n",
       "        text-align: right;\n",
       "    }\n",
       "\n",
       "    .dataframe thead th {\n",
       "        text-align: left;\n",
       "    }\n",
       "\n",
       "    .dataframe tbody tr th {\n",
       "        vertical-align: top;\n",
       "    }\n",
       "</style>\n",
       "<table border=\"1\" class=\"dataframe\">\n",
       "  <thead>\n",
       "    <tr style=\"text-align: right;\">\n",
       "      <th></th>\n",
       "      <th>Predicted False</th>\n",
       "      <th>Predict True</th>\n",
       "    </tr>\n",
       "  </thead>\n",
       "  <tbody>\n",
       "    <tr>\n",
       "      <th>Actual False</th>\n",
       "      <td>529</td>\n",
       "      <td>50</td>\n",
       "    </tr>\n",
       "    <tr>\n",
       "      <th>Actual True</th>\n",
       "      <td>19</td>\n",
       "      <td>69</td>\n",
       "    </tr>\n",
       "  </tbody>\n",
       "</table>\n",
       "</div>"
      ],
      "text/plain": [
       "              Predicted False  Predict True\n",
       "Actual False              529            50\n",
       "Actual True                19            69"
      ]
     },
     "metadata": {},
     "output_type": "display_data"
    },
    {
     "name": "stdout",
     "output_type": "stream",
     "text": [
      "Random Forest without Scaling\n",
      "             precision    recall  f1-score   support\n",
      "\n",
      "          0       0.95      0.98      0.96       579\n",
      "          1       0.83      0.66      0.73        88\n",
      "\n",
      "avg / total       0.93      0.94      0.93       667\n",
      "\n"
     ]
    },
    {
     "data": {
      "text/html": [
       "<div>\n",
       "<style>\n",
       "    .dataframe thead tr:only-child th {\n",
       "        text-align: right;\n",
       "    }\n",
       "\n",
       "    .dataframe thead th {\n",
       "        text-align: left;\n",
       "    }\n",
       "\n",
       "    .dataframe tbody tr th {\n",
       "        vertical-align: top;\n",
       "    }\n",
       "</style>\n",
       "<table border=\"1\" class=\"dataframe\">\n",
       "  <thead>\n",
       "    <tr style=\"text-align: right;\">\n",
       "      <th></th>\n",
       "      <th>Predicted False</th>\n",
       "      <th>Predict True</th>\n",
       "    </tr>\n",
       "  </thead>\n",
       "  <tbody>\n",
       "    <tr>\n",
       "      <th>Actual False</th>\n",
       "      <td>567</td>\n",
       "      <td>12</td>\n",
       "    </tr>\n",
       "    <tr>\n",
       "      <th>Actual True</th>\n",
       "      <td>30</td>\n",
       "      <td>58</td>\n",
       "    </tr>\n",
       "  </tbody>\n",
       "</table>\n",
       "</div>"
      ],
      "text/plain": [
       "              Predicted False  Predict True\n",
       "Actual False              567            12\n",
       "Actual True                30            58"
      ]
     },
     "metadata": {},
     "output_type": "display_data"
    },
    {
     "name": "stdout",
     "output_type": "stream",
     "text": [
      "Naive Bayes\n",
      "             precision    recall  f1-score   support\n",
      "\n",
      "          0       0.91      0.91      0.91       579\n",
      "          1       0.42      0.44      0.43        88\n",
      "\n",
      "avg / total       0.85      0.85      0.85       667\n",
      "\n"
     ]
    },
    {
     "data": {
      "text/html": [
       "<div>\n",
       "<style>\n",
       "    .dataframe thead tr:only-child th {\n",
       "        text-align: right;\n",
       "    }\n",
       "\n",
       "    .dataframe thead th {\n",
       "        text-align: left;\n",
       "    }\n",
       "\n",
       "    .dataframe tbody tr th {\n",
       "        vertical-align: top;\n",
       "    }\n",
       "</style>\n",
       "<table border=\"1\" class=\"dataframe\">\n",
       "  <thead>\n",
       "    <tr style=\"text-align: right;\">\n",
       "      <th></th>\n",
       "      <th>Predicted False</th>\n",
       "      <th>Predict True</th>\n",
       "    </tr>\n",
       "  </thead>\n",
       "  <tbody>\n",
       "    <tr>\n",
       "      <th>Actual False</th>\n",
       "      <td>525</td>\n",
       "      <td>54</td>\n",
       "    </tr>\n",
       "    <tr>\n",
       "      <th>Actual True</th>\n",
       "      <td>49</td>\n",
       "      <td>39</td>\n",
       "    </tr>\n",
       "  </tbody>\n",
       "</table>\n",
       "</div>"
      ],
      "text/plain": [
       "              Predicted False  Predict True\n",
       "Actual False              525            54\n",
       "Actual True                49            39"
      ]
     },
     "metadata": {},
     "output_type": "display_data"
    },
    {
     "name": "stdout",
     "output_type": "stream",
     "text": [
      "Random Forest with columns dropped\n",
      "             precision    recall  f1-score   support\n",
      "\n",
      "          0       0.95      0.98      0.97       579\n",
      "          1       0.85      0.66      0.74        88\n",
      "\n",
      "avg / total       0.94      0.94      0.94       667\n",
      "\n"
     ]
    },
    {
     "data": {
      "text/html": [
       "<div>\n",
       "<style>\n",
       "    .dataframe thead tr:only-child th {\n",
       "        text-align: right;\n",
       "    }\n",
       "\n",
       "    .dataframe thead th {\n",
       "        text-align: left;\n",
       "    }\n",
       "\n",
       "    .dataframe tbody tr th {\n",
       "        vertical-align: top;\n",
       "    }\n",
       "</style>\n",
       "<table border=\"1\" class=\"dataframe\">\n",
       "  <thead>\n",
       "    <tr style=\"text-align: right;\">\n",
       "      <th></th>\n",
       "      <th>Predicted False</th>\n",
       "      <th>Predict True</th>\n",
       "    </tr>\n",
       "  </thead>\n",
       "  <tbody>\n",
       "    <tr>\n",
       "      <th>Actual False</th>\n",
       "      <td>569</td>\n",
       "      <td>10</td>\n",
       "    </tr>\n",
       "    <tr>\n",
       "      <th>Actual True</th>\n",
       "      <td>30</td>\n",
       "      <td>58</td>\n",
       "    </tr>\n",
       "  </tbody>\n",
       "</table>\n",
       "</div>"
      ],
      "text/plain": [
       "              Predicted False  Predict True\n",
       "Actual False              569            10\n",
       "Actual True                30            58"
      ]
     },
     "metadata": {},
     "output_type": "display_data"
    },
    {
     "data": {
      "image/png": "[encoded data removed]",
      "text/plain": [
       "<matplotlib.figure.Figure at 0x7ff07722b2b0>"
      ]
     },
     "metadata": {},
     "output_type": "display_data"
    }
   ],
   "source": [
    "plt.figure(figsize=(14,8))\n",
    "lr = make_pipeline(DummyEncoder(), StandardScaler(), LogisticRegression(fit_intercept=False))\n",
    "lrd = make_pipeline(Drop_columns(columns=['state']),Encoder(columns=cols),StandardScaler(),\n",
    "                    LogisticRegression(fit_intercept=False))\n",
    "dc = make_pipeline(Encoder(columns=cat_cols), StandardScaler() ,DecisionTreeClassifier())\n",
    "dc2 = make_pipeline(Encoder(columns=cat_cols), DecisionTreeClassifier())\n",
    "rf = make_pipeline(Encoder(columns =cat_cols), StandardScaler(), RandomForestClassifier())\n",
    "rfn = make_pipeline(Encoder(columns=cat_cols), RandomForestClassifier())\n",
    "rfd = make_pipeline(Drop_columns(columns=['state','area_code']),Encoder(columns=['intl_plan','vmail_plan']),\n",
    "                   RandomForestClassifier())\n",
    "nb = make_pipeline(Encoder(columns=cat_cols), GaussianNB())\n",
    "models = [('Logistic Regression', lr),('Logistic Regression drop State', lrd),('Decision Tree', dc),\n",
    "         ('Random Forest', rf),('Decision Tree without Scaling', dc2),('Random Forest without Scaling', rfn),\n",
    "         ('Naive Bayes', nb),('Random Forest with columns dropped',rfd)]\n",
    "for model_name, clf in models:\n",
    "    print (model_name)\n",
    "    fpr, tpr, thresholds, y_pred = display_result(X_train, X_test, y_train, y_test, clf, display_roc=False)\n",
    "    plt.plot(fpr, tpr,label='%s (area = %0.2f)' % (model_name, roc_auc_score(y_test, y_pred)))\n",
    "    \n",
    "\n",
    "# Plot Base Rate ROC\n",
    "plt.plot([0,1], [0,1],label='Base Rate' 'k--')\n",
    "\n",
    "plt.xlim([0.0, 1.0])\n",
    "plt.ylim([0.0, 1.05])\n",
    "plt.xlabel('False Positive Rate')\n",
    "plt.ylabel('True Positive Rate')\n",
    "plt.title('ROC Graph')\n",
    "plt.legend(loc=\"lower right\")\n",
    "\n",
    "plt.show()\n",
    "#display_result(X_train, X_test,y_train,y_test, lr)\n",
    "#display_result(X_train, X_test, y_train, y_test, lrd)"
   ]
  },
  {
   "cell_type": "markdown",
   "metadata": {},
   "source": [
    "On the whole, Random Forest model has the best balance, with decent precision and recall. In term of accuracy on true positive, Logistic Regression does the best, but at the expense of naming a large portion of customers as churn (False positive). Thus, for a model to be better, we must improve upon Random Forest's accuracy on true postive without sacrificing too much on false negative and postive. "
   ]
  },
  {
   "cell_type": "markdown",
   "metadata": {},
   "source": [
    "### 2. Hyper Parameter Tuning"
   ]
  },
  {
   "cell_type": "markdown",
   "metadata": {},
   "source": [
    "In this section, we will try to tune two models: Random Forest Classifier and the popular XGBoost Classifier. Because we have imbalance data, we choose f1_weighted as our score in grid search. Also, the scale_pos_weight parameter for XGBClassifier also allow ones to fine tune result with more emphasis on recall."
   ]
  },
  {
   "cell_type": "code",
   "execution_count": 6,
   "metadata": {
    "collapsed": true
   },
   "outputs": [],
   "source": [
    "from sklearn.model_selection import RandomizedSearchCV, GridSearchCV\n",
    "from evolutionary_search import EvolutionaryAlgorithmSearchCV"
   ]
  },
  {
   "cell_type": "code",
   "execution_count": 7,
   "metadata": {},
   "outputs": [],
   "source": [
    "cv = KFold(n_splits=5, shuffle=True, random_state=0)"
   ]
  },
  {
   "cell_type": "markdown",
   "metadata": {},
   "source": [
    "### Random Forest Classifier"
   ]
  },
  {
   "cell_type": "code",
   "execution_count": 8,
   "metadata": {},
   "outputs": [
    {
     "name": "stdout",
     "output_type": "stream",
     "text": [
      "             precision    recall  f1-score   support\n",
      "\n",
      "          0       0.97      0.98      0.97       579\n",
      "          1       0.83      0.80      0.81        88\n",
      "\n",
      "avg / total       0.95      0.95      0.95       667\n",
      "\n"
     ]
    },
    {
     "data": {
      "text/html": [
       "<div>\n",
       "<style>\n",
       "    .dataframe thead tr:only-child th {\n",
       "        text-align: right;\n",
       "    }\n",
       "\n",
       "    .dataframe thead th {\n",
       "        text-align: left;\n",
       "    }\n",
       "\n",
       "    .dataframe tbody tr th {\n",
       "        vertical-align: top;\n",
       "    }\n",
       "</style>\n",
       "<table border=\"1\" class=\"dataframe\">\n",
       "  <thead>\n",
       "    <tr style=\"text-align: right;\">\n",
       "      <th></th>\n",
       "      <th>Predicted False</th>\n",
       "      <th>Predict True</th>\n",
       "    </tr>\n",
       "  </thead>\n",
       "  <tbody>\n",
       "    <tr>\n",
       "      <th>Actual False</th>\n",
       "      <td>565</td>\n",
       "      <td>14</td>\n",
       "    </tr>\n",
       "    <tr>\n",
       "      <th>Actual True</th>\n",
       "      <td>18</td>\n",
       "      <td>70</td>\n",
       "    </tr>\n",
       "  </tbody>\n",
       "</table>\n",
       "</div>"
      ],
      "text/plain": [
       "              Predicted False  Predict True\n",
       "Actual False              565            14\n",
       "Actual True                18            70"
      ]
     },
     "metadata": {},
     "output_type": "display_data"
    },
    {
     "data": {
      "image/png": "[encoded data removed]",
      "text/plain": [
       "<matplotlib.figure.Figure at 0x7ff06ef4e048>"
      ]
     },
     "metadata": {},
     "output_type": "display_data"
    }
   ],
   "source": [
    "rf_pipeline =  make_pipeline(Drop_columns(columns=['state','area_code']), \n",
    "                        Encoder(columns=['intl_plan','vmail_plan']),\n",
    "                        RandomForestClassifier())\n",
    "\n",
    "grid = {\n",
    "    'randomforestclassifier__n_estimators': [10,20,50,100,200],\n",
    "    'randomforestclassifier__max_features': ['auto', 'sqrt', 'log2'],\n",
    "    \"randomforestclassifier__max_features\": [3, 5],\n",
    "    \"randomforestclassifier__max_depth\" : [5,6,7,8,9,10],\n",
    "    \"randomforestclassifier__min_samples_split\" : [2, 4] ,\n",
    "}\n",
    "\n",
    "clf_rf = GridSearchCV(rf_pipeline, grid, cv=cv, n_jobs=-1, scoring='f1_weighted')\n",
    "display_result(X_train, X_test, y_train, y_test, clf_rf)"
   ]
  },
  {
   "cell_type": "markdown",
   "metadata": {},
   "source": [
    "### XGBoost Classifier\n",
    "\n",
    "**Note**: with the number of possible choice of parameters, it will take too long for GridSearchCV, and we will use RandomizedSearchCV with subsample of 400 parameter choice, instead."
   ]
  },
  {
   "cell_type": "code",
   "execution_count": 9,
   "metadata": {
    "collapsed": true
   },
   "outputs": [],
   "source": [
    "ind_params = {'objective':'binary:logistic',\n",
    "              'eval_metric':'auc',\n",
    "              'nthread':-1,\n",
    "             'random_state': 42}\n",
    "\n",
    "param_grid =  {'xgbclassifier__max_depth':[6,7,8,9,10],\n",
    "         'xgbclassifier__n_estimators':[70,80,90,100,120,130,140],\n",
    "         'xgbclassifier__learning_rate': [0.01,0.05,0.0005],\n",
    "         'xgbclassifier__min_child_weight':[5,6,7,8,9],\n",
    "         'xgbclassifier__gamma': [i/10 for i in range(0,5)],\n",
    "         'xgbclassifier__scale_pos_weight':[4.0,3.0,2.0,1.5,1.0]}"
   ]
  },
  {
   "cell_type": "code",
   "execution_count": 10,
   "metadata": {
    "scrolled": false
   },
   "outputs": [
    {
     "name": "stdout",
     "output_type": "stream",
     "text": [
      "             precision    recall  f1-score   support\n",
      "\n",
      "          0       0.98      0.97      0.97       579\n",
      "          1       0.80      0.84      0.82        88\n",
      "\n",
      "avg / total       0.95      0.95      0.95       667\n",
      "\n"
     ]
    },
    {
     "data": {
      "text/html": [
       "<div>\n",
       "<style>\n",
       "    .dataframe thead tr:only-child th {\n",
       "        text-align: right;\n",
       "    }\n",
       "\n",
       "    .dataframe thead th {\n",
       "        text-align: left;\n",
       "    }\n",
       "\n",
       "    .dataframe tbody tr th {\n",
       "        vertical-align: top;\n",
       "    }\n",
       "</style>\n",
       "<table border=\"1\" class=\"dataframe\">\n",
       "  <thead>\n",
       "    <tr style=\"text-align: right;\">\n",
       "      <th></th>\n",
       "      <th>Predicted False</th>\n",
       "      <th>Predict True</th>\n",
       "    </tr>\n",
       "  </thead>\n",
       "  <tbody>\n",
       "    <tr>\n",
       "      <th>Actual False</th>\n",
       "      <td>560</td>\n",
       "      <td>19</td>\n",
       "    </tr>\n",
       "    <tr>\n",
       "      <th>Actual True</th>\n",
       "      <td>14</td>\n",
       "      <td>74</td>\n",
       "    </tr>\n",
       "  </tbody>\n",
       "</table>\n",
       "</div>"
      ],
      "text/plain": [
       "              Predicted False  Predict True\n",
       "Actual False              560            19\n",
       "Actual True                14            74"
      ]
     },
     "metadata": {},
     "output_type": "display_data"
    },
    {
     "data": {
      "image/png": "[encoded data removed]",
      "text/plain": [
       "<matplotlib.figure.Figure at 0x7ff06ef2d5f8>"
      ]
     },
     "metadata": {},
     "output_type": "display_data"
    }
   ],
   "source": [
    "#Warning: this take a long time to run.\n",
    "#It's better to preprocess the data separately without using pipeline.\n",
    "\n",
    "xgb = make_pipeline(Drop_columns(columns=['state','area_code']), \n",
    "                    Encoder(columns=['intl_plan','vmail_plan']),\n",
    "                    XGBClassifier(**ind_params))\n",
    "clf = RandomizedSearchCV(xgb, param_distributions=param_grid, n_iter=400,cv=cv, n_jobs=-1, scoring='f1_weighted')\n",
    "display_result(X_train, X_test, y_train, y_test, clf)"
   ]
  },
  {
   "cell_type": "code",
   "execution_count": 11,
   "metadata": {},
   "outputs": [
    {
     "data": {
      "text/plain": [
       "Pipeline(memory=None,\n",
       "     steps=[('drop_columns', Drop_columns(columns=['state', 'area_code'])), ('encoder', Encoder(columns=['intl_plan', 'vmail_plan'])), ('xgbclassifier', XGBClassifier(base_score=0.5, booster='gbtree', colsample_bylevel=1,\n",
       "       colsample_bytree=1, eval_metric='auc', gamma=0.0,\n",
       "       learning_rate=0.05,...      reg_alpha=0, reg_lambda=1, scale_pos_weight=3.0, seed=None,\n",
       "       silent=True, subsample=1))])"
      ]
     },
     "execution_count": 11,
     "metadata": {},
     "output_type": "execute_result"
    }
   ],
   "source": [
    "clf.best_estimator_"
   ]
  },
  {
   "cell_type": "markdown",
   "metadata": {},
   "source": [
    "There are not much separating the two models. Except with fewer parameters to try out, the Random Forest model is a lot faster to tune. Part of the reason for the slowness of the XGBoost model is due to using sklearn Pipeline since it preprocess data for each new parameters. Preprocess the data once, speed up the process significantly with the cost of messier code."
   ]
  },
  {
   "cell_type": "markdown",
   "metadata": {},
   "source": [
    "### SMOTE + Tomek Resampling Method"
   ]
  },
  {
   "cell_type": "markdown",
   "metadata": {},
   "source": [
    "In the last section of this churn analysis, I want to give a brief experiment of the systhetic resampling method. In my experience, SMOTE alone doesn't necessary give a significant boost in accuracy. However, SMOTE+Tomek from [this presentation](https://www.youtube.com/watch?v=-Z1PaqYKC1w&t=2362s) seems promising. Indeed, it does improve the result a bit."
   ]
  },
  {
   "cell_type": "code",
   "execution_count": 14,
   "metadata": {},
   "outputs": [
    {
     "name": "stderr",
     "output_type": "stream",
     "text": [
      "/home/mike/anaconda/lib/python3.6/site-packages/imblearn/utils/deprecation.py:50: DeprecationWarning: 'k' is deprecated from 0.2 and will be removed in 0.4. Use 'k_neighbors' instead.\n",
      "  category=DeprecationWarning)\n",
      "/home/mike/anaconda/lib/python3.6/site-packages/imblearn/utils/deprecation.py:50: DeprecationWarning: 'm' is deprecated from 0.2 and will be removed in 0.4. Use 'm_neighbors' instead.\n",
      "  category=DeprecationWarning)\n"
     ]
    },
    {
     "name": "stdout",
     "output_type": "stream",
     "text": [
      "             precision    recall  f1-score   support\n",
      "\n",
      "          0       0.98      0.96      0.97       579\n",
      "          1       0.76      0.85      0.80        88\n",
      "\n",
      "avg / total       0.95      0.94      0.95       667\n",
      "\n"
     ]
    },
    {
     "data": {
      "text/html": [
       "<div>\n",
       "<style>\n",
       "    .dataframe thead tr:only-child th {\n",
       "        text-align: right;\n",
       "    }\n",
       "\n",
       "    .dataframe thead th {\n",
       "        text-align: left;\n",
       "    }\n",
       "\n",
       "    .dataframe tbody tr th {\n",
       "        vertical-align: top;\n",
       "    }\n",
       "</style>\n",
       "<table border=\"1\" class=\"dataframe\">\n",
       "  <thead>\n",
       "    <tr style=\"text-align: right;\">\n",
       "      <th></th>\n",
       "      <th>Predicted False</th>\n",
       "      <th>Predict True</th>\n",
       "    </tr>\n",
       "  </thead>\n",
       "  <tbody>\n",
       "    <tr>\n",
       "      <th>Actual False</th>\n",
       "      <td>555</td>\n",
       "      <td>24</td>\n",
       "    </tr>\n",
       "    <tr>\n",
       "      <th>Actual True</th>\n",
       "      <td>13</td>\n",
       "      <td>75</td>\n",
       "    </tr>\n",
       "  </tbody>\n",
       "</table>\n",
       "</div>"
      ],
      "text/plain": [
       "              Predicted False  Predict True\n",
       "Actual False              555            24\n",
       "Actual True                13            75"
      ]
     },
     "metadata": {},
     "output_type": "display_data"
    },
    {
     "data": {
      "image/png": "[encoded data removed]",
      "text/plain": [
       "<matplotlib.figure.Figure at 0x7ff06eb91588>"
      ]
     },
     "metadata": {},
     "output_type": "display_data"
    }
   ],
   "source": [
    "from sklearn.cross_validation import KFold\n",
    "from sklearn.grid_search import GridSearchCV\n",
    "from imblearn.combine import SMOTETomek\n",
    "\n",
    "scaler = StandardScaler()\n",
    "x_train = X_train.copy()\n",
    "x_test = X_test.copy()\n",
    "x_train.drop(['state','area_code'], axis=1, inplace=True)\n",
    "x_test.drop(['state','area_code'], axis=1, inplace=True)\n",
    "scaler.fit(x_train)\n",
    "x_train = scaler.transform(x_train)\n",
    "x_test = scaler.transform(x_test)\n",
    "\n",
    "\n",
    "os_us = SMOTETomek(ratio=0.5, k=5)\n",
    "X_train_res, y_train_res = os_us.fit_sample(x_train, y_train)\n",
    "\n",
    "clf_base =  RandomForestClassifier()\n",
    "#grid = {'C': 10.0 ** np.arange(-2, 3),\n",
    "#'penalty': ['l1', 'l2']}\n",
    "\n",
    "grid = {\n",
    "    'n_estimators': [10,20,50,100,200],\n",
    "    'max_features': ['auto', 'sqrt', 'log2'],\n",
    "    \"max_features\": [3, 5],\n",
    "    \"max_depth\" : [5,6,7,8,9,10],\n",
    "    \"min_samples_split\" : [2, 4] ,\n",
    "}\n",
    "\n",
    "cv = KFold(X_train.shape[0], n_folds=5, shuffle=True, random_state=0)\n",
    "clf_rf_smote = GridSearchCV(clf_base, grid, cv=cv, n_jobs=-1, scoring='f1_weighted')\n",
    "\n",
    "display_result(X_train_res, x_test, y_train_res, y_test, clf_rf_smote)"
   ]
  },
  {
   "cell_type": "markdown",
   "metadata": {},
   "source": [
    "The resampling method improve the result a bit but at the expense of increasing false positive. However, between this and the XGBoost Classifier, the latter is preferred because of lower false positive rate.\n",
    "\n",
    "Still, this is an encouraging result."
   ]
  },
  {
   "cell_type": "code",
   "execution_count": null,
   "metadata": {
    "collapsed": true
   },
   "outputs": [],
   "source": []
  }
 ],
 "metadata": {
  "kernelspec": {
   "display_name": "Python 3",
   "language": "python",
   "name": "python3"
  },
  "language_info": {
   "codemirror_mode": {
    "name": "ipython",
    "version": 3
   },
   "file_extension": ".py",
   "mimetype": "text/x-python",
   "name": "python",
   "nbconvert_exporter": "python",
   "pygments_lexer": "ipython3",
   "version": "3.6.3"
  }
 },
 "nbformat": 4,
 "nbformat_minor": 2
}
